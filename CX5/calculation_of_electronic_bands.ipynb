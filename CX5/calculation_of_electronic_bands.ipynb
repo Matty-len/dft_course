{
 "cells": [
  {
   "cell_type": "code",
   "execution_count": 1,
   "metadata": {},
   "outputs": [],
   "source": [
    "from ase.build import bulk\n",
    "from gpaw import GPAW, PW, FermiDirac\n",
    "\n",
    "# Perform standard ground state calculation (with plane wave basis)\n",
    "# si = bulk('Si', 'diamond', 5.43)\n",
    "# calc = GPAW(mode=PW(200),\n",
    "#             xc='PBE',\n",
    "#             kpts=(8, 8, 8),\n",
    "#             random=True,  # random guess (needed if many empty bands required)\n",
    "#             occupations=FermiDirac(0.01),\n",
    "#             txt='Si_gs.txt')\n",
    "# si.calc = calc\n",
    "# si.get_potential_energy()\n",
    "# ef = calc.get_fermi_level()\n",
    "#calc.write('Si_gs.gpw')"
   ]
  },
  {
   "cell_type": "code",
   "execution_count": null,
   "metadata": {},
   "outputs": [],
   "source": []
  },
  {
   "cell_type": "code",
   "execution_count": null,
   "metadata": {},
   "outputs": [],
   "source": [
    "# plot of bandstructure\n",
    "bs = calc.band_structure()\n",
    "bs.plot(filename='bandstructure.png', show=True, emax=10.0)"
   ]
  },
  {
   "cell_type": "code",
   "execution_count": null,
   "metadata": {},
   "outputs": [],
   "source": []
  },
  {
   "cell_type": "code",
   "execution_count": null,
   "metadata": {},
   "outputs": [],
   "source": []
  },
  {
   "cell_type": "code",
   "execution_count": null,
   "metadata": {},
   "outputs": [],
   "source": []
  },
  {
   "cell_type": "code",
   "execution_count": null,
   "metadata": {},
   "outputs": [],
   "source": []
  }
 ],
 "metadata": {
  "kernelspec": {
   "display_name": "dft_course_gpaw",
   "language": "python",
   "name": "python3"
  },
  "language_info": {
   "codemirror_mode": {
    "name": "ipython",
    "version": 3
   },
   "file_extension": ".py",
   "mimetype": "text/x-python",
   "name": "python",
   "nbconvert_exporter": "python",
   "pygments_lexer": "ipython3",
   "version": "3.8.5"
  },
  "orig_nbformat": 4
 },
 "nbformat": 4,
 "nbformat_minor": 2
}
