{
 "cells": [
  {
   "cell_type": "code",
   "execution_count": 5,
   "metadata": {},
   "outputs": [
    {
     "data": {
      "application/vnd.jupyter.widget-view+json": {
       "model_id": "15ba4527415a4941835c5eb5b90d9b7f",
       "version_major": 2,
       "version_minor": 0
      },
      "text/plain": [
       "HBox(children=(NGLWidget(), VBox(children=(Dropdown(description='Show', options=('All', 'Al'), value='All'), D…"
      ]
     },
     "metadata": {},
     "output_type": "display_data"
    }
   ],
   "source": [
    "\"\"\"Bulk Al(fcc) test\"\"\"\n",
    "from ase import Atoms\n",
    "from ase.visualize import view\n",
    "from gpaw import GPAW, PW\n",
    "\n",
    "name = 'Al-fcc'\n",
    "a = 4.05  # fcc lattice parameter\n",
    "b = a / 2\n",
    "\n",
    "bulk = Atoms('Al',\n",
    "             cell=[[0, b, b],\n",
    "                   [b, 0, b],\n",
    "                   [b, b, 0]],\n",
    "             pbc=True)\n",
    "\n",
    "view(bulk, viewer='ngl', repeat=2)\n"
   ]
  },
  {
   "cell_type": "code",
   "execution_count": 6,
   "metadata": {},
   "outputs": [
    {
     "name": "stdout",
     "output_type": "stream",
     "text": [
      "Energy: -4.122151616078048 eV\n"
     ]
    }
   ],
   "source": [
    "\"\"\"Bulk Al(fcc) test\"\"\"\n",
    "from ase import Atoms\n",
    "from ase.visualize import view\n",
    "from gpaw import GPAW, PW\n",
    "\n",
    "name = 'Al-fcc'\n",
    "a = 4.05  # fcc lattice parameter\n",
    "b = a / 2\n",
    "\n",
    "bulk = Atoms('Al',\n",
    "             cell=[[0, b, b],\n",
    "                   [b, 0, b],\n",
    "                   [b, b, 0]],\n",
    "             pbc=True)\n",
    "\n",
    "#view(bulk)\n",
    "\n",
    "k = 4\n",
    "calc = GPAW(mode=PW(300),       # cutoff\n",
    "            kpts=(k, k, k),     # k-points\n",
    "            txt=name + '.txt')  # output file\n",
    "\n",
    "bulk.calc = calc #calculator, \n",
    "\n",
    "energy = bulk.get_potential_energy() # we calculate, the potential energy of the system and write it to a gpaw function\n",
    "calc.write(name + '.gpw')\n",
    "print('Energy:', energy, 'eV')"
   ]
  },
  {
   "cell_type": "code",
   "execution_count": 24,
   "metadata": {},
   "outputs": [
    {
     "name": "stdout",
     "output_type": "stream",
     "text": [
      "[ 0.00084316 -0.10795803 -0.67126701]\n"
     ]
    },
    {
     "data": {
      "text/plain": [
       "59.318999999999996"
      ]
     },
     "execution_count": 24,
     "metadata": {},
     "output_type": "execute_result"
    }
   ],
   "source": [
    "import numpy as np \n",
    "a = [3.9, 4.0, 4.1**3, 4.2**3]\n",
    "e = [-4.107395295729819, -4.129761799181154, -4.104109249187723, -4.042361840865782]\n",
    "fit = np.polyfit(a, e, 2)\n",
    "\n",
    "import matplotlib.pyplot as plt\n",
    "x = np.linspace(a[0],a[-1],100)\n",
    "y = fit[0]*x**2 + x*fit[1] + fit[2]\n",
    "print(fit)\n",
    "a[0]"
   ]
  },
  {
   "cell_type": "code",
   "execution_count": 25,
   "metadata": {},
   "outputs": [
    {
     "data": {
      "text/plain": [
       "[<matplotlib.lines.Line2D at 0x7fa3dc1a6670>]"
      ]
     },
     "execution_count": 25,
     "metadata": {},
     "output_type": "execute_result"
    },
    {
     "data": {
      "image/png": "[encoded data removed]",
      "text/plain": [
       "<Figure size 432x288 with 1 Axes>"
      ]
     },
     "metadata": {
      "needs_background": "light"
     },
     "output_type": "display_data"
    }
   ],
   "source": [
    "# så dE/da^2 = 2.103 Ha/Å^2\n",
    "plt.plot(a,e)\n",
    "plt.plot(x,y)"
   ]
  },
  {
   "cell_type": "code",
   "execution_count": 26,
   "metadata": {},
   "outputs": [],
   "source": [
    "import pandas as pd"
   ]
  },
  {
   "cell_type": "code",
   "execution_count": 43,
   "metadata": {},
   "outputs": [
    {
     "name": "stdout",
     "output_type": "stream",
     "text": [
      "           a         b\n",
      "0   3.900000 -4.107395\n",
      "1   3.903030 -4.108903\n",
      "2   3.906061 -4.110368\n",
      "3   3.909091 -4.111764\n",
      "4   3.912121 -4.113104\n",
      "..       ...       ...\n",
      "95  4.187879 -4.051409\n",
      "96  4.190909 -4.049178\n",
      "97  4.193939 -4.046937\n",
      "98  4.196970 -4.044658\n",
      "99  4.200000 -4.042362\n",
      "\n",
      "[100 rows x 2 columns]\n"
     ]
    }
   ],
   "source": [
    "df = pd.read_csv('bulk_energy_for_diff_atomic_lengths.csv')\n",
    "print(df)"
   ]
  },
  {
   "cell_type": "code",
   "execution_count": 50,
   "metadata": {},
   "outputs": [
    {
     "name": "stdout",
     "output_type": "stream",
     "text": [
      "[  2.099414   -16.77099914  29.36471808]\n"
     ]
    }
   ],
   "source": [
    "a=list(df['a'])\n",
    "e=list(df[' b'])\n",
    "fit = np.polyfit(a, e, 2)\n",
    "print(fit)"
   ]
  },
  {
   "cell_type": "code",
   "execution_count": 51,
   "metadata": {},
   "outputs": [
    {
     "data": {
      "text/plain": [
       "[<matplotlib.lines.Line2D at 0x7fa3d9db2dc0>]"
      ]
     },
     "execution_count": 51,
     "metadata": {},
     "output_type": "execute_result"
    },
    {
     "data": {
      "image/png": "[encoded data removed]",
      "text/plain": [
       "<Figure size 432x288 with 1 Axes>"
      ]
     },
     "metadata": {
      "needs_background": "light"
     },
     "output_type": "display_data"
    }
   ],
   "source": [
    "plt.plot(a,e)"
   ]
  },
  {
   "attachments": {
    "image.png": {
     "image/png": "[encoded data removed]"
    }
   },
   "cell_type": "markdown",
   "metadata": {},
   "source": [
    "![image.png](attachment:image.png)"
   ]
  },
  {
   "cell_type": "code",
   "execution_count": null,
   "metadata": {},
   "outputs": [],
   "source": [
    "# Hvor at faktor "
   ]
  }
 ],
 "metadata": {
  "kernelspec": {
   "display_name": "dft_venv",
   "language": "python",
   "name": "python3"
  },
  "language_info": {
   "codemirror_mode": {
    "name": "ipython",
    "version": 3
   },
   "file_extension": ".py",
   "mimetype": "text/x-python",
   "name": "python",
   "nbconvert_exporter": "python",
   "pygments_lexer": "ipython3",
   "version": "3.8.5"
  },
  "orig_nbformat": 4,
  "vscode": {
   "interpreter": {
    "hash": "dbbf10b84b2ecb927d45177c1ade77395e790b0a88e9eb0b4a0833899d4b44bc"
   }
  }
 },
 "nbformat": 4,
 "nbformat_minor": 2
}
