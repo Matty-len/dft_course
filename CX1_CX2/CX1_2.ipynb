{
 "cells": [
  {
   "cell_type": "code",
   "execution_count": null,
   "metadata": {},
   "outputs": [],
   "source": [
    "%notebook widget\n"
   ]
  }
 ],
 "metadata": {
  "kernelspec": {
   "display_name": "dft_venv",
   "language": "python",
   "name": "dft_venv"
  },
  "orig_nbformat": 4,
  "vscode": {
   "interpreter": {
    "hash": "916dbcbb3f70747c44a77c7bcd40155683ae19c65e1c03b4aa3499c5328201f1"
   }
  }
 },
 "nbformat": 4,
 "nbformat_minor": 2
}
