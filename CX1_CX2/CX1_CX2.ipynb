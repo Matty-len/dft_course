{
 "cells": [
  {
   "attachments": {},
   "cell_type": "markdown",
   "metadata": {},
   "source": [
    "# CH 1"
   ]
  },
  {
   "cell_type": "code",
   "execution_count": 9,
   "metadata": {},
   "outputs": [],
   "source": [
    "%notebook widget"
   ]
  },
  {
   "cell_type": "code",
   "execution_count": 14,
   "metadata": {},
   "outputs": [
    {
     "name": "stderr",
     "output_type": "stream",
     "text": [
      "WARNING:root:DEPRECATED: Please use 'center' method\n",
      "WARNING:root:DEPRECATED: Please use 'center' method\n"
     ]
    }
   ],
   "source": [
    "#RUnning of the basic tutorial\n",
    "from ase import Atoms\n",
    "atoms = Atoms('N2', positions=[[0, 0, -1], [0, 0, 1]])\n",
    "from ase.visualize import view\n",
    "v = view(atoms, viewer='ngl')\n",
    "v.view.center_view()\n",
    "\n",
    "v.custom_colors({'H':'green','As':'blue'})\n",
    "v.view._remote_call(\"setSize\", target=\"Widget\", args=[\"400px\", \"400px\"])\n",
    "v.view.center_view()\n",
    "v.view.background='#ffc'\n",
    "v.view.parameters=dict(clipDist=-200)\n",
    "\n",
    "\n",
    "# saving the atoms\n",
    "from ase.io import write\n",
    "write('firstraj.traj', atoms)"
   ]
  },
  {
   "cell_type": "code",
   "execution_count": 11,
   "metadata": {},
   "outputs": [
    {
     "data": {
      "application/vnd.jupyter.widget-view+json": {
       "model_id": "e703c552fbfa40ed8166e2e462d83d27",
       "version_major": 2,
       "version_minor": 0
      },
      "text/plain": [
       "HBox(children=(NGLWidget(), VBox(children=(Dropdown(description='Show', options=('All', 'N'), value='All'), Dr…"
      ]
     },
     "metadata": {},
     "output_type": "display_data"
    }
   ],
   "source": [
    "v\n",
    "view(atoms, viewer='ngl')"
   ]
  },
  {
   "cell_type": "code",
   "execution_count": 12,
   "metadata": {},
   "outputs": [
    {
     "data": {
      "image/png": "[encoded data removed]",
      "text/plain": [
       "<Figure size 432x288 with 1 Axes>"
      ]
     },
     "metadata": {
      "needs_background": "light"
     },
     "output_type": "display_data"
    }
   ],
   "source": [
    "import matplotlib.pyplot as plt\n",
    "from ase.visualize.plot import plot_atoms\n",
    "from ase.lattice.cubic import FaceCenteredCubic\n",
    "slab = FaceCenteredCubic('Au', size=(2, 2, 2))\n",
    "fig, ax = plt.subplots()\n",
    "plot_atoms(slab, ax, radii=0.3, rotation=('90x,45y,0z'))\n",
    "fig.savefig(\"ase_slab.png\")"
   ]
  },
  {
   "cell_type": "code",
   "execution_count": 25,
   "metadata": {},
   "outputs": [
    {
     "name": "stdout",
     "output_type": "stream",
     "text": [
      "Atoms(symbols='N2', pbc=False, cell=[6.0, 6.0, 11.0], calculator=GPAW(...))\n"
     ]
    }
   ],
   "source": [
    "from gpaw import GPAW\n",
    "\n",
    "calc = GPAW(mode='lcao', basis='dzp', txt='gpaw.txt', xc='LDA')\n",
    "atoms.calc = calc\n",
    "atoms.center(vacuum=3.0)\n",
    "print(atoms)"
   ]
  },
  {
   "cell_type": "code",
   "execution_count": 26,
   "metadata": {},
   "outputs": [
    {
     "name": "stdout",
     "output_type": "stream",
     "text": [
      "Energy 1.2705076184267976\n",
      "Forces\n",
      "[[ 0.          0.          0.34855236]\n",
      " [ 0.          0.         -0.34855236]]\n"
     ]
    }
   ],
   "source": [
    "e = atoms.get_potential_energy()\n",
    "print('Energy', e)\n",
    "f = atoms.get_forces()\n",
    "print('Forces')\n",
    "print(f)\n",
    "\n",
    "atoms.get_positions()\n",
    "\n",
    "atoms.set_positions([[3,3,3],[3,3,8]])\n",
    "#e2 = atoms.get_potential_energy()\n",
    "#print(e2)"
   ]
  },
  {
   "cell_type": "code",
   "execution_count": 16,
   "metadata": {},
   "outputs": [],
   "source": [
    "# import nglview as nv\n",
    "# nv.demo()\n"
   ]
  },
  {
   "attachments": {
    "image.png": {
     "image/png": "[encoded data removed]"
    }
   },
   "cell_type": "markdown",
   "metadata": {},
   "source": [
    "![image.png](attachment:image.png)"
   ]
  },
  {
   "cell_type": "code",
   "execution_count": 52,
   "metadata": {},
   "outputs": [
    {
     "name": "stdout",
     "output_type": "stream",
     "text": [
      "Atoms(symbols='N2', pbc=False, cell=[6.0, 6.0, 8.0], calculator=GPAW(...))\n",
      "[[3. 3. 3.]\n",
      " [3. 3. 5.]]\n",
      "-5.164615584409899\n",
      "[[3. 3. 3.]\n",
      " [3. 3. 4.]]\n",
      "-14.42648582363853\n"
     ]
    }
   ],
   "source": [
    "from gpaw import GPAW\n",
    "from ase.visualize import view\n",
    "from ase import Atoms\n",
    "\n",
    "atoms = Atoms('N2', positions=[[0, 0, -1], [0, 0, 1]])\n",
    "calc = GPAW(mode='lcao', basis='dzp', txt='gpaw.txt', xc='LDA')\n",
    "atoms.calc = calc\n",
    "atoms.center(vacuum=3.0)\n",
    "#view(atoms, viewer = 'ngl')\n",
    "\n",
    "e = atoms.get_potential_energy()\n",
    "print(atoms)\n",
    "print(atoms.positions)\n",
    "print(e)\n",
    "#calc = GPAW(mode='lcao', basis='dzp', txt='gpaw.txt', xc='LDA')\n",
    "#atoms.calc = calc\n",
    "#atoms.positions = [[0, 0, -1], [0, 0, 2]]\n",
    "atoms[1].z = 4\n",
    "print(atoms.positions)\n",
    "atoms.center(vacuum = 3.0)\n",
    "#view(atoms, viewer = 'ngl')\n",
    "#e2 = atoms.get_potential_energy()\n",
    "#print(e2)\n",
    "\n",
    "e2 = atoms.get_potential_energy()\n",
    "print(e2)\n",
    "\n"
   ]
  },
  {
   "cell_type": "code",
   "execution_count": 4,
   "metadata": {},
   "outputs": [
    {
     "name": "stdout",
     "output_type": "stream",
     "text": [
      "displacement 0.4\n",
      "displacement 0.8\n",
      "displacement 1.2000000000000002\n",
      "displacement 1.6\n",
      "displacement 2.0\n",
      "displacement 2.4\n",
      "displacement 2.8\n",
      "displacement 3.1999999999999997\n",
      "displacement 3.5999999999999996\n",
      "displacement 3.9999999999999996\n",
      "displacement 4.3999999999999995\n",
      "[]\n",
      "[]\n"
     ]
    }
   ],
   "source": [
    "\n",
    "\n",
    "\n",
    "from gpaw import GPAW\n",
    "from ase.visualize import view\n",
    "from ase import Atoms\n",
    "import matplotlib.pyplot as plt\n",
    "\n",
    "dist_vect = []\n",
    "Evec = []\n",
    "atoms = Atoms('N2', positions=[[0, 0, -1], [0, 0, 1]])\n",
    "atoms.center(vacuum=3.0)\n",
    "calc = GPAW(mode='lcao', basis='dzp', txt='gpaw.txt', xc='LDA')\n",
    "atoms.calc = calc\n",
    "\n",
    "max_disp = 4\n",
    "displacement = 0\n",
    "num_points = 10\n",
    "stepsize = max_disp/num_points\n",
    "\n",
    "while displacement < max_disp:\n",
    "    \n",
    "    displacement += stepsize\n",
    "    print(f'displacement {displacement}')\n",
    "    \n",
    "    atoms.positions = [[0, 0, -1], [0, 0, 0 + displacement]]\n",
    "    atoms.center(vacuum=3)\n",
    "    #dist_vect.append(atoms.positions[1,2]-atoms.positions[0,2])\n",
    "    #Evec.append(atoms.get_potential_energy())\n",
    "\n",
    "print(Evec)\n",
    "print(dist_vect)\n",
    "\n",
    "\n"
   ]
  },
  {
   "attachments": {
    "image.png": {
     "image/png": "[encoded data removed]"
    }
   },
   "cell_type": "markdown",
   "metadata": {},
   "source": [
    "![image.png](attachment:image.png)"
   ]
  },
  {
   "cell_type": "code",
   "execution_count": 6,
   "metadata": {},
   "outputs": [
    {
     "data": {
      "image/png": "[encoded data removed]",
      "text/plain": [
       "<Figure size 432x288 with 1 Axes>"
      ]
     },
     "metadata": {
      "needs_background": "light"
     },
     "output_type": "display_data"
    }
   ],
   "source": [
    "plt.plot(dist_vect, Evec)\n",
    "plt.show()"
   ]
  },
  {
   "cell_type": "code",
   "execution_count": 2,
   "metadata": {},
   "outputs": [
    {
     "name": "stdout",
     "output_type": "stream",
     "text": [
      "distance, energy 0.5 139.70897530268766\n",
      "force [[ 0.0000000e+00  0.0000000e+00 -9.8318282e+02]\n",
      " [ 5.0706073e-30  0.0000000e+00  9.8318282e+02]]\n",
      "distance, energy 0.55 96.4202580543726\n",
      "force [[-2.02824292e-29  6.08472876e-29 -7.54188184e+02]\n",
      " [ 2.02824292e-29 -6.08472876e-29  7.54188184e+02]]\n",
      "distance, energy 0.6 63.67999879775285\n",
      "force [[ 1.01412146e-28  1.01412146e-28 -5.62551378e+02]\n",
      " [ 4.05648584e-29  4.05648584e-29  5.62551378e+02]]\n",
      "distance, energy 0.65 39.510211235035484\n",
      "force [[   0.            0.         -411.01961195]\n",
      " [   0.            0.          411.01961195]]\n",
      "distance, energy 0.7 21.987774367561816\n",
      "force [[ 0.00000000e+00 -1.01412146e-29 -2.95650296e+02]\n",
      " [-1.01412146e-29 -2.02824292e-29  2.95650296e+02]]\n",
      "distance, energy 0.75 9.46060707347872\n",
      "force [[ 8.11297168e-29  0.00000000e+00 -2.10094750e+02]\n",
      " [ 6.08472876e-29 -2.02824292e-29  2.10094750e+02]]\n",
      "distance, energy 0.8 0.6075505938950115\n",
      "force [[   0.            0.         -147.47181094]\n",
      " [   0.            0.          147.47181094]]\n",
      "distance, energy 0.8500000000000001 -5.663831942982893\n",
      "force [[   0.            0.         -102.32802643]\n",
      " [   0.            0.          102.32802643]]\n",
      "distance, energy 0.9 -9.895638625527845\n",
      "force [[-2.02824292e-29 -1.01412146e-29 -6.88545551e+01]\n",
      " [-8.87356277e-30 -1.01412146e-29  6.88545551e+01]]\n",
      "distance, energy 0.95 -12.69201038207262\n",
      "force [[ 3.04236438e-29 -4.05648584e-29 -4.42955129e+01]\n",
      " [-6.08472876e-29 -5.07060730e-29  4.42955129e+01]]\n",
      "distance, energy 1.0 -14.42648582363853\n",
      "force [[ 3.04236438e-29  2.02824292e-29 -2.60749837e+01]\n",
      " [ 1.01412146e-29  2.02824292e-29  2.60749837e+01]]\n",
      "distance, energy 1.05 -15.37640766017331\n",
      "force [[ 0.00000000e+00  1.01412146e-28 -1.27241945e+01]\n",
      " [ 0.00000000e+00  1.01412146e-28  1.27241945e+01]]\n",
      "distance, energy 1.1 -15.753172434947198\n",
      "force [[ 0.00000000e+00  2.02824292e-29 -3.08959522e+00]\n",
      " [-4.05648584e-29 -6.08472876e-29  3.08959522e+00]]\n",
      "distance, energy 1.15 -15.71903431324538\n",
      "force [[-3.24518867e-28 -2.02824292e-29  3.75406377e+00]\n",
      " [ 7.09885022e-29 -2.02824292e-29 -3.75406377e+00]]\n",
      "distance, energy 1.2000000000000002 -15.406876714895105\n",
      "force [[-4.05648584e-29 -2.02824292e-29  8.26406477e+00]\n",
      " [ 8.11297168e-29 -2.02824292e-29 -8.26406477e+00]]\n",
      "distance, energy 1.25 -14.906310184043923\n",
      "force [[ 4.05648584e-29 -2.02824292e-29  1.11652272e+01]\n",
      " [-7.09885022e-29 -6.08472876e-29 -1.11652272e+01]]\n",
      "distance, energy 1.3 -14.287109938139501\n",
      "force [[-7.09885022e-29  1.01412146e-29  1.31406677e+01]\n",
      " [ 5.07060730e-29  0.00000000e+00 -1.31406677e+01]]\n",
      "distance, energy 1.35 -13.590566813368259\n",
      "force [[-8.11297168e-29 -1.01412146e-28  1.42273128e+01]\n",
      " [-8.11297168e-29 -1.01412146e-28 -1.42273128e+01]]\n",
      "distance, energy 1.4 -12.846972287621313\n",
      "force [[ 0.00000000e+00  0.00000000e+00  1.49658305e+01]\n",
      " [ 1.52118219e-29  2.02824292e-29 -1.49658305e+01]]\n",
      "distance, energy 1.4500000000000002 -12.082000967781411\n",
      "force [[-5.07060730e-30  2.02824292e-29  1.52138918e+01]\n",
      " [ 1.01412146e-29  2.02824292e-29 -1.52138918e+01]]\n",
      "distance, energy 1.5 -11.313496907784552\n",
      "force [[ 1.41977004e-28  8.11297168e-29  1.52364475e+01]\n",
      " [-6.08472876e-29 -8.11297168e-29 -1.52364475e+01]]\n",
      "distance, energy 1.55 -10.552170440600342\n",
      "force [[-4.05648584e-29 -4.05648584e-29  1.50057484e+01]\n",
      " [-4.05648584e-29 -4.05648584e-29 -1.50057484e+01]]\n",
      "distance, energy 1.6 -9.903253825883008\n",
      "force [[ 9.12709314e-29  2.02824292e-29  1.40966881e+01]\n",
      " [-8.11297168e-29  0.00000000e+00 -1.40966881e+01]]\n",
      "distance, energy 1.6500000000000001 -9.205873636950342\n",
      "force [[ 0.00000000e+00  0.00000000e+00  1.35610603e+01]\n",
      " [ 4.05648584e-29  0.00000000e+00 -1.35610603e+01]]\n",
      "distance, energy 1.7000000000000002 -8.539812057819983\n",
      "force [[-6.08472876e-29  2.02824292e-29  1.28640335e+01]\n",
      " [-4.81707693e-29  2.02824292e-29 -1.28640335e+01]]\n",
      "distance, energy 1.75 -7.90323260936819\n",
      "force [[-2.02824292e-29 -2.02824292e-29  1.23790490e+01]\n",
      " [-2.02824292e-29 -2.02824292e-29 -1.23790490e+01]]\n",
      "distance, energy 1.8 -7.293859155374728\n",
      "force [[ 3.92972066e-29 -2.02824292e-29  1.18681296e+01]\n",
      " [ 2.02824292e-29 -2.02824292e-29 -1.18681296e+01]]\n",
      "distance, energy 1.85 -6.715052888820787\n",
      "force [[-4.05648584e-29 -3.04236438e-29  1.13023748e+01]\n",
      " [ 1.11553361e-28  8.11297168e-29 -1.13023748e+01]]\n",
      "distance, energy 1.9000000000000001 -6.166055786047996\n",
      "force [[ 0.00000000e+00 -2.02824292e-29  1.06015258e+01]\n",
      " [-4.05648584e-29 -2.02824292e-29 -1.06015258e+01]]\n",
      "distance, energy 1.9500000000000002 -5.647221709402646\n",
      "force [[-1.01412146e-29  0.00000000e+00  9.94652946e+00]\n",
      " [-3.04236438e-29 -4.05648584e-29 -9.94652946e+00]]\n",
      "distance, energy 2.0 -5.164615584410515\n",
      "force [[ 1.01412146e-29 -1.01412146e-29  9.20874390e+00]\n",
      " [ 0.00000000e+00  0.00000000e+00 -9.20874390e+00]]\n",
      "distance, energy 2.05 -4.714107117476748\n",
      "force [[ 8.11297168e-29  0.00000000e+00  8.46705822e+00]\n",
      " [-8.11297168e-29  5.07060730e-30 -8.46705822e+00]]\n",
      "distance, energy 2.1 -4.299164870785827\n",
      "force [[-2.02824292e-28 -4.05648584e-29  7.86786619e+00]\n",
      " [-8.11297168e-29 -8.11297168e-29 -7.86786619e+00]]\n",
      "distance, energy 2.1500000000000004 -3.9113451080417643\n",
      "force [[ 9.12709314e-29  0.00000000e+00  7.23948992e+00]\n",
      " [ 0.00000000e+00  0.00000000e+00 -7.23948992e+00]]\n",
      "distance, energy 2.2 -3.548909501656214\n",
      "force [[-2.02824292e-29 -2.02824292e-29  6.91673069e+00]\n",
      " [-2.02824292e-29 -2.02824292e-29 -6.91673069e+00]]\n",
      "distance, energy 2.25 -3.205672706405115\n",
      "force [[ 0.00000000e+00 -1.01412146e-29  6.51985423e+00]\n",
      " [ 4.05648584e-29  3.04236438e-29 -6.51985423e+00]]\n",
      "distance, energy 2.3 -2.8799036891916976\n",
      "force [[ 2.02824292e-29  4.05648584e-29  6.20718305e+00]\n",
      " [ 1.01412146e-29  4.05648584e-29 -6.20718305e+00]]\n",
      "distance, energy 2.35 -2.5706426473436625\n",
      "force [[-2.02824292e-29  0.00000000e+00  5.91958492e+00]\n",
      " [-1.01412146e-29  0.00000000e+00 -5.91958492e+00]]\n",
      "distance, energy 2.4000000000000004 -2.3639340678896303\n",
      "force [[-4.05648584e-29 -2.02824292e-29  5.23799901e+00]\n",
      " [ 0.00000000e+00 -2.02824292e-29 -5.23799901e+00]]\n",
      "distance, energy 2.45 -2.1048209808556866\n",
      "force [[ 8.11297168e-29  0.00000000e+00  4.84336340e+00]\n",
      " [ 0.00000000e+00  0.00000000e+00 -4.84336340e+00]]\n",
      "distance, energy 2.5 -1.8636378442698163\n",
      "force [[ 1.62259434e-28  0.00000000e+00  4.66057209e+00]\n",
      " [-5.07060730e-29 -1.26765182e-29 -4.66057209e+00]]\n",
      "distance, energy 2.5500000000000003 -1.6337538705900978\n",
      "force [[-2.02824292e-29  1.01412146e-29  4.46565408e+00]\n",
      " [ 3.04236438e-29 -1.01412146e-29 -4.46565408e+00]]\n",
      "distance, energy 2.6 -1.4145890784303057\n",
      "force [[ 1.01412146e-29  0.00000000e+00  4.18158310e+00]\n",
      " [ 1.01412146e-29  0.00000000e+00 -4.18158310e+00]]\n",
      "distance, energy 2.65 -1.2070814738587798\n",
      "force [[-1.21694575e-28  2.02824292e-29  4.03408762e+00]\n",
      " [ 1.21694575e-28 -6.08472876e-29 -4.03408762e+00]]\n",
      "distance, energy 2.7 -1.013118458132629\n",
      "force [[-1.01412146e-28  0.00000000e+00  3.74647780e+00]\n",
      " [-1.62259434e-28  1.01412146e-28 -3.74647780e+00]]\n",
      "distance, energy 2.75 -0.8307966701105639\n",
      "force [[ 4.05648584e-29  2.02824292e-29  3.39938397e+00]\n",
      " [-1.01412146e-29  2.02824292e-29 -3.39938397e+00]]\n",
      "distance, energy 2.8000000000000003 -0.6656404314221679\n",
      "force [[ 3.24518867e-28 -1.01412146e-29  3.05851626e+00]\n",
      " [-9.63415387e-29  0.00000000e+00 -3.05851626e+00]]\n",
      "distance, energy 2.85 -0.5135386036035325\n",
      "force [[ 0.          0.          2.70374212]\n",
      " [ 0.          0.         -2.70374212]]\n",
      "distance, energy 2.9000000000000004 -0.37879959752018855\n",
      "force [[ 0.          0.          2.41580843]\n",
      " [ 0.          0.         -2.41580843]]\n",
      "distance, energy 2.95 -0.25339939726789495\n",
      "force [[ 2.02824292e-29  2.02824292e-29  2.18707570e+00]\n",
      " [ 6.08472876e-29  6.08472876e-29 -2.18707570e+00]]\n",
      "distance, energy 3.0 -0.13929563577957052\n",
      "force [[ 0.00000000e+00  0.00000000e+00  2.06668670e+00]\n",
      " [-5.07060730e-30 -1.01412146e-29 -2.06668670e+00]]\n",
      "distance, energy 3.0500000000000003 -0.028479410224013915\n",
      "force [[ 0.00000000e+00  2.02824292e-29  2.00402450e+00]\n",
      " [ 1.01412146e-29  1.01412146e-29 -2.00402450e+00]]\n",
      "distance, energy 3.1 0.07853049923936832\n",
      "force [[-2.02824292e-29 -2.02824292e-29  1.99158305e+00]\n",
      " [-2.02824292e-29 -2.02824292e-29 -1.99158305e+00]]\n",
      "distance, energy 3.1500000000000004 0.1818488592793536\n",
      "force [[-1.01412146e-28 -4.05648584e-29  1.94826691e+00]\n",
      " [-1.21694575e-28 -4.05648584e-29 -1.94826691e+00]]\n",
      "distance, energy 3.2 0.2825814381832562\n",
      "force [[ 0.00000000e+00  0.00000000e+00  1.89933383e+00]\n",
      " [ 0.00000000e+00  5.07060730e-30 -1.89933383e+00]]\n",
      "distance, energy 3.25 0.28793828169304786\n",
      "force [[-1.01412146e-29  2.02824292e-29  1.47732717e+00]\n",
      " [ 0.00000000e+00  2.02824292e-29 -1.47732717e+00]]\n",
      "distance, energy 3.3000000000000003 0.3668279882390476\n",
      "force [[ 8.11297168e-29  2.02824292e-29  1.49576702e+00]\n",
      " [ 3.44801296e-28  2.02824292e-29 -1.49576702e+00]]\n",
      "distance, energy 3.35 0.44492851734609795\n",
      "force [[-4.05648584e-29 -2.02824292e-29  1.57333577e+00]\n",
      " [-4.05648584e-29 -2.02824292e-29 -1.57333577e+00]]\n",
      "distance, energy 3.4000000000000004 0.520176909106526\n",
      "force [[ 0.00000000e+00  2.02824292e-29  1.48410358e+00]\n",
      " [ 0.00000000e+00  2.02824292e-29 -1.48410358e+00]]\n",
      "distance, energy 3.45 0.5944976477984754\n",
      "force [[ 2.02824292e-29  4.05648584e-29  1.40486586e+00]\n",
      " [ 1.01412146e-28  4.05648584e-29 -1.40486586e+00]]\n"
     ]
    },
    {
     "data": {
      "image/png": "[encoded data removed]",
      "text/plain": [
       "<Figure size 432x288 with 1 Axes>"
      ]
     },
     "metadata": {
      "needs_background": "light"
     },
     "output_type": "display_data"
    }
   ],
   "source": [
    "from ase import Atoms\n",
    "from ase.io import Trajectory\n",
    "from gpaw import GPAW\n",
    "\n",
    "atoms = Atoms('N2', positions=[[0, 0, -1], [0, 0, 1]])\n",
    "atoms.center(vacuum=3.0)\n",
    "\n",
    "calc = GPAW(mode='lcao', basis='dzp', txt='gpaw.txt')\n",
    "atoms.calc = calc\n",
    "\n",
    "traj = Trajectory('binding_curve.traj', 'w')\n",
    "\n",
    "step = 0.05\n",
    "nsteps = int(3 / step)\n",
    "\n",
    "for i in range(nsteps):\n",
    "    d = 0.5 + i * step\n",
    "    atoms.positions[1, 2] = atoms.positions[0, 2] + d\n",
    "    atoms.center(vacuum=3.0)\n",
    "    e = atoms.get_potential_energy()\n",
    "    f = atoms.get_forces()\n",
    "    print('distance, energy', d, e)\n",
    "    #print('force', f)\n",
    "    traj.write(atoms)\n",
    "\n",
    "import matplotlib.pyplot as plt\n",
    "from ase.io import iread\n",
    "\n",
    "energies = []\n",
    "distances = []\n",
    "\n",
    "for atoms in iread('binding_curve.traj'):\n",
    "    energies.append(atoms.get_potential_energy())\n",
    "    distances.append(atoms.positions[1, 2] - atoms.positions[0, 2])\n",
    "\n",
    "ax = plt.gca()\n",
    "ax.plot(distances, energies)\n",
    "ax.set_xlabel('Distance [Å]')\n",
    "ax.set_ylabel('Total energy [eV]')\n",
    "plt.show()"
   ]
  },
  {
   "attachments": {},
   "cell_type": "markdown",
   "metadata": {},
   "source": [
    "# CH 2"
   ]
  },
  {
   "cell_type": "code",
   "execution_count": 10,
   "metadata": {},
   "outputs": [],
   "source": [
    "from myqueue.task import task\n",
    "task('./Calculation_energy.py', tmax='2d', cores=8).submit()"
   ]
  },
  {
   "cell_type": "code",
   "execution_count": null,
   "metadata": {},
   "outputs": [],
   "source": []
  },
  {
   "cell_type": "code",
   "execution_count": null,
   "metadata": {},
   "outputs": [],
   "source": []
  },
  {
   "cell_type": "code",
   "execution_count": null,
   "metadata": {},
   "outputs": [],
   "source": []
  },
  {
   "cell_type": "code",
   "execution_count": null,
   "metadata": {},
   "outputs": [],
   "source": []
  },
  {
   "cell_type": "code",
   "execution_count": null,
   "metadata": {},
   "outputs": [],
   "source": []
  },
  {
   "cell_type": "code",
   "execution_count": null,
   "metadata": {},
   "outputs": [],
   "source": []
  }
 ],
 "metadata": {
  "kernelspec": {
   "display_name": "dft_venv",
   "language": "python",
   "name": "python3"
  },
  "language_info": {
   "codemirror_mode": {
    "name": "ipython",
    "version": 3
   },
   "file_extension": ".py",
   "mimetype": "text/x-python",
   "name": "python",
   "nbconvert_exporter": "python",
   "pygments_lexer": "ipython3",
   "version": "3.8.5"
  },
  "orig_nbformat": 4,
  "vscode": {
   "interpreter": {
    "hash": "dbbf10b84b2ecb927d45177c1ade77395e790b0a88e9eb0b4a0833899d4b44bc"
   }
  }
 },
 "nbformat": 4,
 "nbformat_minor": 2
}
